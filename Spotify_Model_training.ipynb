{
 "cells": [
  {
   "cell_type": "code",
   "execution_count": 1,
   "id": "eb00ca29-5fd6-4fa2-8ac6-b3593c398d37",
   "metadata": {},
   "outputs": [],
   "source": [
    "import pandas as pd "
   ]
  },
  {
   "cell_type": "code",
   "execution_count": 2,
   "id": "0b0f0049-5f01-4912-9d00-961aff8b54fe",
   "metadata": {},
   "outputs": [],
   "source": [
    "df = pd.read_csv(\"spotify_millsongdata.csv\")"
   ]
  },
  {
   "cell_type": "code",
   "execution_count": 3,
   "id": "a872ac1e",
   "metadata": {},
   "outputs": [
    {
     "data": {
      "text/html": [
       "<div>\n",
       "<style scoped>\n",
       "    .dataframe tbody tr th:only-of-type {\n",
       "        vertical-align: middle;\n",
       "    }\n",
       "\n",
       "    .dataframe tbody tr th {\n",
       "        vertical-align: top;\n",
       "    }\n",
       "\n",
       "    .dataframe thead th {\n",
       "        text-align: right;\n",
       "    }\n",
       "</style>\n",
       "<table border=\"1\" class=\"dataframe\">\n",
       "  <thead>\n",
       "    <tr style=\"text-align: right;\">\n",
       "      <th></th>\n",
       "      <th>artist</th>\n",
       "      <th>song</th>\n",
       "      <th>link</th>\n",
       "      <th>text</th>\n",
       "    </tr>\n",
       "  </thead>\n",
       "  <tbody>\n",
       "    <tr>\n",
       "      <th>0</th>\n",
       "      <td>ABBA</td>\n",
       "      <td>Ahe's My Kind Of Girl</td>\n",
       "      <td>/a/abba/ahes+my+kind+of+girl_20598417.html</td>\n",
       "      <td>Look at her face, it's a wonderful face  \\r\\nA...</td>\n",
       "    </tr>\n",
       "    <tr>\n",
       "      <th>1</th>\n",
       "      <td>ABBA</td>\n",
       "      <td>Andante, Andante</td>\n",
       "      <td>/a/abba/andante+andante_20002708.html</td>\n",
       "      <td>Take it easy with me, please  \\r\\nTouch me gen...</td>\n",
       "    </tr>\n",
       "    <tr>\n",
       "      <th>2</th>\n",
       "      <td>ABBA</td>\n",
       "      <td>As Good As New</td>\n",
       "      <td>/a/abba/as+good+as+new_20003033.html</td>\n",
       "      <td>I'll never know why I had to go  \\r\\nWhy I had...</td>\n",
       "    </tr>\n",
       "    <tr>\n",
       "      <th>3</th>\n",
       "      <td>ABBA</td>\n",
       "      <td>Bang</td>\n",
       "      <td>/a/abba/bang_20598415.html</td>\n",
       "      <td>Making somebody happy is a question of give an...</td>\n",
       "    </tr>\n",
       "    <tr>\n",
       "      <th>4</th>\n",
       "      <td>ABBA</td>\n",
       "      <td>Bang-A-Boomerang</td>\n",
       "      <td>/a/abba/bang+a+boomerang_20002668.html</td>\n",
       "      <td>Making somebody happy is a question of give an...</td>\n",
       "    </tr>\n",
       "  </tbody>\n",
       "</table>\n",
       "</div>"
      ],
      "text/plain": [
       "  artist                   song                                        link  \\\n",
       "0   ABBA  Ahe's My Kind Of Girl  /a/abba/ahes+my+kind+of+girl_20598417.html   \n",
       "1   ABBA       Andante, Andante       /a/abba/andante+andante_20002708.html   \n",
       "2   ABBA         As Good As New        /a/abba/as+good+as+new_20003033.html   \n",
       "3   ABBA                   Bang                  /a/abba/bang_20598415.html   \n",
       "4   ABBA       Bang-A-Boomerang      /a/abba/bang+a+boomerang_20002668.html   \n",
       "\n",
       "                                                text  \n",
       "0  Look at her face, it's a wonderful face  \\r\\nA...  \n",
       "1  Take it easy with me, please  \\r\\nTouch me gen...  \n",
       "2  I'll never know why I had to go  \\r\\nWhy I had...  \n",
       "3  Making somebody happy is a question of give an...  \n",
       "4  Making somebody happy is a question of give an...  "
      ]
     },
     "execution_count": 3,
     "metadata": {},
     "output_type": "execute_result"
    }
   ],
   "source": [
    "df.head(5)"
   ]
  },
  {
   "cell_type": "code",
   "execution_count": 4,
   "id": "e661da7b",
   "metadata": {},
   "outputs": [
    {
     "data": {
      "text/html": [
       "<div>\n",
       "<style scoped>\n",
       "    .dataframe tbody tr th:only-of-type {\n",
       "        vertical-align: middle;\n",
       "    }\n",
       "\n",
       "    .dataframe tbody tr th {\n",
       "        vertical-align: top;\n",
       "    }\n",
       "\n",
       "    .dataframe thead th {\n",
       "        text-align: right;\n",
       "    }\n",
       "</style>\n",
       "<table border=\"1\" class=\"dataframe\">\n",
       "  <thead>\n",
       "    <tr style=\"text-align: right;\">\n",
       "      <th></th>\n",
       "      <th>artist</th>\n",
       "      <th>song</th>\n",
       "      <th>link</th>\n",
       "      <th>text</th>\n",
       "    </tr>\n",
       "  </thead>\n",
       "  <tbody>\n",
       "    <tr>\n",
       "      <th>57645</th>\n",
       "      <td>Ziggy Marley</td>\n",
       "      <td>Good Old Days</td>\n",
       "      <td>/z/ziggy+marley/good+old+days_10198588.html</td>\n",
       "      <td>Irie days come on play  \\r\\nLet the angels fly...</td>\n",
       "    </tr>\n",
       "    <tr>\n",
       "      <th>57646</th>\n",
       "      <td>Ziggy Marley</td>\n",
       "      <td>Hand To Mouth</td>\n",
       "      <td>/z/ziggy+marley/hand+to+mouth_20531167.html</td>\n",
       "      <td>Power to the workers  \\r\\nMore power  \\r\\nPowe...</td>\n",
       "    </tr>\n",
       "    <tr>\n",
       "      <th>57647</th>\n",
       "      <td>Zwan</td>\n",
       "      <td>Come With Me</td>\n",
       "      <td>/z/zwan/come+with+me_20148981.html</td>\n",
       "      <td>all you need  \\r\\nis something i'll believe  \\...</td>\n",
       "    </tr>\n",
       "    <tr>\n",
       "      <th>57648</th>\n",
       "      <td>Zwan</td>\n",
       "      <td>Desire</td>\n",
       "      <td>/z/zwan/desire_20148986.html</td>\n",
       "      <td>northern star  \\r\\nam i frightened  \\r\\nwhere ...</td>\n",
       "    </tr>\n",
       "    <tr>\n",
       "      <th>57649</th>\n",
       "      <td>Zwan</td>\n",
       "      <td>Heartsong</td>\n",
       "      <td>/z/zwan/heartsong_20148991.html</td>\n",
       "      <td>come in  \\r\\nmake yourself at home  \\r\\ni'm a ...</td>\n",
       "    </tr>\n",
       "  </tbody>\n",
       "</table>\n",
       "</div>"
      ],
      "text/plain": [
       "             artist           song  \\\n",
       "57645  Ziggy Marley  Good Old Days   \n",
       "57646  Ziggy Marley  Hand To Mouth   \n",
       "57647          Zwan   Come With Me   \n",
       "57648          Zwan         Desire   \n",
       "57649          Zwan      Heartsong   \n",
       "\n",
       "                                              link  \\\n",
       "57645  /z/ziggy+marley/good+old+days_10198588.html   \n",
       "57646  /z/ziggy+marley/hand+to+mouth_20531167.html   \n",
       "57647           /z/zwan/come+with+me_20148981.html   \n",
       "57648                 /z/zwan/desire_20148986.html   \n",
       "57649              /z/zwan/heartsong_20148991.html   \n",
       "\n",
       "                                                    text  \n",
       "57645  Irie days come on play  \\r\\nLet the angels fly...  \n",
       "57646  Power to the workers  \\r\\nMore power  \\r\\nPowe...  \n",
       "57647  all you need  \\r\\nis something i'll believe  \\...  \n",
       "57648  northern star  \\r\\nam i frightened  \\r\\nwhere ...  \n",
       "57649  come in  \\r\\nmake yourself at home  \\r\\ni'm a ...  "
      ]
     },
     "execution_count": 4,
     "metadata": {},
     "output_type": "execute_result"
    }
   ],
   "source": [
    "df.tail(5)"
   ]
  },
  {
   "cell_type": "code",
   "execution_count": 5,
   "id": "fcfee65c",
   "metadata": {},
   "outputs": [
    {
     "data": {
      "text/plain": [
       "(57650, 4)"
      ]
     },
     "execution_count": 5,
     "metadata": {},
     "output_type": "execute_result"
    }
   ],
   "source": [
    "df.shape"
   ]
  },
  {
   "cell_type": "code",
   "execution_count": 6,
   "id": "51ae2491",
   "metadata": {},
   "outputs": [
    {
     "data": {
      "text/plain": [
       "artist    0\n",
       "song      0\n",
       "link      0\n",
       "text      0\n",
       "dtype: int64"
      ]
     },
     "execution_count": 6,
     "metadata": {},
     "output_type": "execute_result"
    }
   ],
   "source": [
    "df.isnull().sum()"
   ]
  },
  {
   "cell_type": "code",
   "execution_count": 7,
   "id": "2b482dd3",
   "metadata": {},
   "outputs": [],
   "source": [
    "df = df.sample(5000).drop('link', axis=1).reset_index(drop=True)"
   ]
  },
  {
   "cell_type": "code",
   "execution_count": 8,
   "id": "75ccf5dc",
   "metadata": {},
   "outputs": [
    {
     "data": {
      "text/html": [
       "<div>\n",
       "<style scoped>\n",
       "    .dataframe tbody tr th:only-of-type {\n",
       "        vertical-align: middle;\n",
       "    }\n",
       "\n",
       "    .dataframe tbody tr th {\n",
       "        vertical-align: top;\n",
       "    }\n",
       "\n",
       "    .dataframe thead th {\n",
       "        text-align: right;\n",
       "    }\n",
       "</style>\n",
       "<table border=\"1\" class=\"dataframe\">\n",
       "  <thead>\n",
       "    <tr style=\"text-align: right;\">\n",
       "      <th></th>\n",
       "      <th>artist</th>\n",
       "      <th>song</th>\n",
       "      <th>text</th>\n",
       "    </tr>\n",
       "  </thead>\n",
       "  <tbody>\n",
       "    <tr>\n",
       "      <th>0</th>\n",
       "      <td>Face To Face</td>\n",
       "      <td>The Devil You Know</td>\n",
       "      <td>It's all right  \\r\\nEverything is fine  \\r\\nYo...</td>\n",
       "    </tr>\n",
       "    <tr>\n",
       "      <th>1</th>\n",
       "      <td>Christina Aguilera</td>\n",
       "      <td>Bionic</td>\n",
       "      <td>This-this-this-this is the moment that I take ...</td>\n",
       "    </tr>\n",
       "    <tr>\n",
       "      <th>2</th>\n",
       "      <td>John Mellencamp</td>\n",
       "      <td>Serious Business</td>\n",
       "      <td>You ain't goin' nowhere  \\r\\nGonna sit by this...</td>\n",
       "    </tr>\n",
       "    <tr>\n",
       "      <th>3</th>\n",
       "      <td>Hank Snow</td>\n",
       "      <td>Marriage Vow</td>\n",
       "      <td>Do you take this woman to be your dear wife  \\...</td>\n",
       "    </tr>\n",
       "    <tr>\n",
       "      <th>4</th>\n",
       "      <td>Opeth</td>\n",
       "      <td>Bridge Of Sighs</td>\n",
       "      <td>The sun don't shine  \\r\\nThe moon don't move t...</td>\n",
       "    </tr>\n",
       "    <tr>\n",
       "      <th>5</th>\n",
       "      <td>Jimmy Buffett</td>\n",
       "      <td>I Used To Have Money One Time</td>\n",
       "      <td>I had Cadillac's in my future  \\r\\nDebutantes ...</td>\n",
       "    </tr>\n",
       "    <tr>\n",
       "      <th>6</th>\n",
       "      <td>Van Morrison</td>\n",
       "      <td>Crazy Love</td>\n",
       "      <td>I can hear her heart beat from a thousand mile...</td>\n",
       "    </tr>\n",
       "    <tr>\n",
       "      <th>7</th>\n",
       "      <td>Wet Wet Wet</td>\n",
       "      <td>Maybe Tomorrow</td>\n",
       "      <td>She's getting out of control  \\r\\nShe's takin'...</td>\n",
       "    </tr>\n",
       "    <tr>\n",
       "      <th>8</th>\n",
       "      <td>Arlo Guthrie</td>\n",
       "      <td>The Motorcycle Song</td>\n",
       "      <td>[Chorus]  \\r\\nI don't want a pickle  \\r\\nJust ...</td>\n",
       "    </tr>\n",
       "    <tr>\n",
       "      <th>9</th>\n",
       "      <td>O.A.R.</td>\n",
       "      <td>When Can I Go Home?</td>\n",
       "      <td>I wrote a letter to man, sealed my envelope wi...</td>\n",
       "    </tr>\n",
       "  </tbody>\n",
       "</table>\n",
       "</div>"
      ],
      "text/plain": [
       "               artist                           song  \\\n",
       "0        Face To Face             The Devil You Know   \n",
       "1  Christina Aguilera                         Bionic   \n",
       "2     John Mellencamp               Serious Business   \n",
       "3           Hank Snow                   Marriage Vow   \n",
       "4               Opeth                Bridge Of Sighs   \n",
       "5       Jimmy Buffett  I Used To Have Money One Time   \n",
       "6        Van Morrison                     Crazy Love   \n",
       "7         Wet Wet Wet                 Maybe Tomorrow   \n",
       "8        Arlo Guthrie            The Motorcycle Song   \n",
       "9              O.A.R.            When Can I Go Home?   \n",
       "\n",
       "                                                text  \n",
       "0  It's all right  \\r\\nEverything is fine  \\r\\nYo...  \n",
       "1  This-this-this-this is the moment that I take ...  \n",
       "2  You ain't goin' nowhere  \\r\\nGonna sit by this...  \n",
       "3  Do you take this woman to be your dear wife  \\...  \n",
       "4  The sun don't shine  \\r\\nThe moon don't move t...  \n",
       "5  I had Cadillac's in my future  \\r\\nDebutantes ...  \n",
       "6  I can hear her heart beat from a thousand mile...  \n",
       "7  She's getting out of control  \\r\\nShe's takin'...  \n",
       "8  [Chorus]  \\r\\nI don't want a pickle  \\r\\nJust ...  \n",
       "9  I wrote a letter to man, sealed my envelope wi...  "
      ]
     },
     "execution_count": 8,
     "metadata": {},
     "output_type": "execute_result"
    }
   ],
   "source": [
    "df.head(10)"
   ]
  },
  {
   "cell_type": "code",
   "execution_count": 9,
   "id": "c179ce46",
   "metadata": {},
   "outputs": [
    {
     "data": {
      "text/plain": [
       "\"It's all right  \\r\\nEverything is fine  \\r\\nYou live the perfect life  \\r\\nNever one immoral thought inside your mind  \\r\\n  \\r\\nWhat they say  \\r\\nDoes it make you feel ashamed?  \\r\\nIsn't everyone the same?  \\r\\nDoes it matter that it wasn't your idea  \\r\\nGod is a man  \\r\\nYou know for certain  \\r\\nThe knowledge in and of itself  \\r\\nIs more than we deserve  \\r\\n  \\r\\nSo you've tried  \\r\\nAnd you've made up your mind  \\r\\nSomething's still not right  \\r\\nThe devil you don't know is still outside\\r\\n\\r\\n\""
      ]
     },
     "execution_count": 9,
     "metadata": {},
     "output_type": "execute_result"
    }
   ],
   "source": [
    "df['text'][0]"
   ]
  },
  {
   "cell_type": "code",
   "execution_count": 10,
   "id": "3c86bf0e",
   "metadata": {},
   "outputs": [
    {
     "data": {
      "text/html": [
       "<div>\n",
       "<style scoped>\n",
       "    .dataframe tbody tr th:only-of-type {\n",
       "        vertical-align: middle;\n",
       "    }\n",
       "\n",
       "    .dataframe tbody tr th {\n",
       "        vertical-align: top;\n",
       "    }\n",
       "\n",
       "    .dataframe thead th {\n",
       "        text-align: right;\n",
       "    }\n",
       "</style>\n",
       "<table border=\"1\" class=\"dataframe\">\n",
       "  <thead>\n",
       "    <tr style=\"text-align: right;\">\n",
       "      <th></th>\n",
       "      <th>artist</th>\n",
       "      <th>song</th>\n",
       "      <th>text</th>\n",
       "    </tr>\n",
       "  </thead>\n",
       "  <tbody>\n",
       "    <tr>\n",
       "      <th>263</th>\n",
       "      <td>Ella Fitzgerald</td>\n",
       "      <td>Fairy Tales</td>\n",
       "      <td>Fairy tales were the tales that you told me  \\...</td>\n",
       "    </tr>\n",
       "    <tr>\n",
       "      <th>2455</th>\n",
       "      <td>Ice Cube</td>\n",
       "      <td>The Product</td>\n",
       "      <td>I was told cause I didn't witness the whole ac...</td>\n",
       "    </tr>\n",
       "    <tr>\n",
       "      <th>3921</th>\n",
       "      <td>Oliver</td>\n",
       "      <td>A Fine Life</td>\n",
       "      <td>Nancy: Small pleasures, small pleasures,  \\r\\n...</td>\n",
       "    </tr>\n",
       "    <tr>\n",
       "      <th>1344</th>\n",
       "      <td>Black Sabbath</td>\n",
       "      <td>Lord Of This World</td>\n",
       "      <td>You're searching for your mind don't know wher...</td>\n",
       "    </tr>\n",
       "    <tr>\n",
       "      <th>1852</th>\n",
       "      <td>Rihanna</td>\n",
       "      <td>Say It</td>\n",
       "      <td>You should tell me what's buggin' you  \\r\\nAnd...</td>\n",
       "    </tr>\n",
       "    <tr>\n",
       "      <th>...</th>\n",
       "      <td>...</td>\n",
       "      <td>...</td>\n",
       "      <td>...</td>\n",
       "    </tr>\n",
       "    <tr>\n",
       "      <th>3583</th>\n",
       "      <td>Frank Sinatra</td>\n",
       "      <td>All Or Nothing</td>\n",
       "      <td>All or nothing at all  \\r\\nHalf a love, never ...</td>\n",
       "    </tr>\n",
       "    <tr>\n",
       "      <th>268</th>\n",
       "      <td>Hillsong United</td>\n",
       "      <td>Dwell In Your House</td>\n",
       "      <td>You set me apart  \\r\\nGave me a new heart  \\r\\...</td>\n",
       "    </tr>\n",
       "    <tr>\n",
       "      <th>2242</th>\n",
       "      <td>System Of A Down</td>\n",
       "      <td>Johnny</td>\n",
       "      <td>Hello, my name is Johnny  \\r\\nWell 'ello, my n...</td>\n",
       "    </tr>\n",
       "    <tr>\n",
       "      <th>4662</th>\n",
       "      <td>Tina Turner</td>\n",
       "      <td>Great Spirits</td>\n",
       "      <td>When the earth was young  \\r\\nAnd the air was ...</td>\n",
       "    </tr>\n",
       "    <tr>\n",
       "      <th>1248</th>\n",
       "      <td>Tool</td>\n",
       "      <td>Crawl Away</td>\n",
       "      <td>You crawled away from me.  \\r\\nSlipped away fr...</td>\n",
       "    </tr>\n",
       "  </tbody>\n",
       "</table>\n",
       "<p>5000 rows × 3 columns</p>\n",
       "</div>"
      ],
      "text/plain": [
       "                artist                 song  \\\n",
       "263    Ella Fitzgerald          Fairy Tales   \n",
       "2455          Ice Cube          The Product   \n",
       "3921            Oliver          A Fine Life   \n",
       "1344     Black Sabbath   Lord Of This World   \n",
       "1852           Rihanna               Say It   \n",
       "...                ...                  ...   \n",
       "3583     Frank Sinatra       All Or Nothing   \n",
       "268    Hillsong United  Dwell In Your House   \n",
       "2242  System Of A Down               Johnny   \n",
       "4662       Tina Turner        Great Spirits   \n",
       "1248              Tool           Crawl Away   \n",
       "\n",
       "                                                   text  \n",
       "263   Fairy tales were the tales that you told me  \\...  \n",
       "2455  I was told cause I didn't witness the whole ac...  \n",
       "3921  Nancy: Small pleasures, small pleasures,  \\r\\n...  \n",
       "1344  You're searching for your mind don't know wher...  \n",
       "1852  You should tell me what's buggin' you  \\r\\nAnd...  \n",
       "...                                                 ...  \n",
       "3583  All or nothing at all  \\r\\nHalf a love, never ...  \n",
       "268   You set me apart  \\r\\nGave me a new heart  \\r\\...  \n",
       "2242  Hello, my name is Johnny  \\r\\nWell 'ello, my n...  \n",
       "4662  When the earth was young  \\r\\nAnd the air was ...  \n",
       "1248  You crawled away from me.  \\r\\nSlipped away fr...  \n",
       "\n",
       "[5000 rows x 3 columns]"
      ]
     },
     "execution_count": 10,
     "metadata": {},
     "output_type": "execute_result"
    }
   ],
   "source": [
    "df.sample(5000)"
   ]
  },
  {
   "cell_type": "code",
   "execution_count": 11,
   "id": "dfcdc04b",
   "metadata": {},
   "outputs": [
    {
     "data": {
      "text/plain": [
       "(5000, 3)"
      ]
     },
     "execution_count": 11,
     "metadata": {},
     "output_type": "execute_result"
    }
   ],
   "source": [
    "df.shape"
   ]
  },
  {
   "cell_type": "markdown",
   "id": "0f2c55ed",
   "metadata": {},
   "source": [
    "SAMPLING FROM DATASET"
   ]
  },
  {
   "cell_type": "code",
   "execution_count": 12,
   "id": "eec4602e",
   "metadata": {},
   "outputs": [],
   "source": [
    "df = df.sample(5000)"
   ]
  },
  {
   "cell_type": "code",
   "execution_count": 13,
   "id": "21289757",
   "metadata": {},
   "outputs": [
    {
     "data": {
      "text/plain": [
       "(5000, 3)"
      ]
     },
     "execution_count": 13,
     "metadata": {},
     "output_type": "execute_result"
    }
   ],
   "source": [
    "df.shape "
   ]
  },
  {
   "cell_type": "code",
   "execution_count": 14,
   "id": "f78ea494",
   "metadata": {},
   "outputs": [
    {
     "data": {
      "text/plain": [
       "4142    twinkle twinkle super star, fame and fortune t...\n",
       "4712    be not afraid at all, be not afraid to know  \\...\n",
       "4758    i'll find the places where you hide  \\r i'll b...\n",
       "2728    a love struck romeo  \\r sings the streets a se...\n",
       "1243    you must have faith in everything you do  \\r f...\n",
       "                              ...                        \n",
       "135     when he loved me nothing in this world  \\r cou...\n",
       "41      now that i've passed your test  \\r how can i p...\n",
       "3617    'i get along without you very well' (hoagy car...\n",
       "3855    i know a dream when i see one  \\r for i'm a dr...\n",
       "2197    deep down in my heart  \\r there is a lot of wo...\n",
       "Name: text, Length: 5000, dtype: object"
      ]
     },
     "execution_count": 14,
     "metadata": {},
     "output_type": "execute_result"
    }
   ],
   "source": [
    "df['text'].str.lower().replace(r'^\\w\\s',' ').replace(r'\\n',' ', regex = True)"
   ]
  },
  {
   "cell_type": "code",
   "execution_count": 15,
   "id": "5ce5428f",
   "metadata": {},
   "outputs": [],
   "source": [
    "df['text'] = df['text'].str.lower().replace(r'^\\w\\s',' ').replace(r'\\n',' ', regex = True)"
   ]
  },
  {
   "cell_type": "markdown",
   "id": "c2182970",
   "metadata": {},
   "source": [
    "Important"
   ]
  },
  {
   "cell_type": "code",
   "execution_count": 16,
   "id": "5da9fcfc",
   "metadata": {},
   "outputs": [
    {
     "data": {
      "text/html": [
       "<div>\n",
       "<style scoped>\n",
       "    .dataframe tbody tr th:only-of-type {\n",
       "        vertical-align: middle;\n",
       "    }\n",
       "\n",
       "    .dataframe tbody tr th {\n",
       "        vertical-align: top;\n",
       "    }\n",
       "\n",
       "    .dataframe thead th {\n",
       "        text-align: right;\n",
       "    }\n",
       "</style>\n",
       "<table border=\"1\" class=\"dataframe\">\n",
       "  <thead>\n",
       "    <tr style=\"text-align: right;\">\n",
       "      <th></th>\n",
       "      <th>artist</th>\n",
       "      <th>song</th>\n",
       "      <th>text</th>\n",
       "    </tr>\n",
       "  </thead>\n",
       "  <tbody>\n",
       "    <tr>\n",
       "      <th>4142</th>\n",
       "      <td>Neil Sedaka</td>\n",
       "      <td>Number One With A Heartache</td>\n",
       "      <td>twinkle twinkle super star, fame and fortune t...</td>\n",
       "    </tr>\n",
       "    <tr>\n",
       "      <th>4712</th>\n",
       "      <td>Starship</td>\n",
       "      <td>The Children</td>\n",
       "      <td>be not afraid at all, be not afraid to know  \\...</td>\n",
       "    </tr>\n",
       "    <tr>\n",
       "      <th>4758</th>\n",
       "      <td>OneRepublic</td>\n",
       "      <td>What U Wanted</td>\n",
       "      <td>i'll find the places where you hide  \\r i'll b...</td>\n",
       "    </tr>\n",
       "    <tr>\n",
       "      <th>2728</th>\n",
       "      <td>Indigo Girls</td>\n",
       "      <td>Romeo And Juliet</td>\n",
       "      <td>a love struck romeo  \\r sings the streets a se...</td>\n",
       "    </tr>\n",
       "    <tr>\n",
       "      <th>1243</th>\n",
       "      <td>Glen Campbell</td>\n",
       "      <td>Faith</td>\n",
       "      <td>you must have faith in everything you do  \\r f...</td>\n",
       "    </tr>\n",
       "    <tr>\n",
       "      <th>...</th>\n",
       "      <td>...</td>\n",
       "      <td>...</td>\n",
       "      <td>...</td>\n",
       "    </tr>\n",
       "    <tr>\n",
       "      <th>135</th>\n",
       "      <td>Dusty Springfield</td>\n",
       "      <td>If It Don't Work Out</td>\n",
       "      <td>when he loved me nothing in this world  \\r cou...</td>\n",
       "    </tr>\n",
       "    <tr>\n",
       "      <th>41</th>\n",
       "      <td>Cat Stevens</td>\n",
       "      <td>Two Fine People</td>\n",
       "      <td>now that i've passed your test  \\r how can i p...</td>\n",
       "    </tr>\n",
       "    <tr>\n",
       "      <th>3617</th>\n",
       "      <td>Phil Collins</td>\n",
       "      <td>I've Forgotten Everything</td>\n",
       "      <td>'i get along without you very well' (hoagy car...</td>\n",
       "    </tr>\n",
       "    <tr>\n",
       "      <th>3855</th>\n",
       "      <td>Dean Martin</td>\n",
       "      <td>I Know A Dream When I See One</td>\n",
       "      <td>i know a dream when i see one  \\r for i'm a dr...</td>\n",
       "    </tr>\n",
       "    <tr>\n",
       "      <th>2197</th>\n",
       "      <td>INXS</td>\n",
       "      <td>All The Voices</td>\n",
       "      <td>deep down in my heart  \\r there is a lot of wo...</td>\n",
       "    </tr>\n",
       "  </tbody>\n",
       "</table>\n",
       "<p>5000 rows × 3 columns</p>\n",
       "</div>"
      ],
      "text/plain": [
       "                 artist                           song  \\\n",
       "4142        Neil Sedaka    Number One With A Heartache   \n",
       "4712           Starship                   The Children   \n",
       "4758        OneRepublic                  What U Wanted   \n",
       "2728       Indigo Girls               Romeo And Juliet   \n",
       "1243      Glen Campbell                          Faith   \n",
       "...                 ...                            ...   \n",
       "135   Dusty Springfield           If It Don't Work Out   \n",
       "41          Cat Stevens                Two Fine People   \n",
       "3617       Phil Collins      I've Forgotten Everything   \n",
       "3855        Dean Martin  I Know A Dream When I See One   \n",
       "2197               INXS                 All The Voices   \n",
       "\n",
       "                                                   text  \n",
       "4142  twinkle twinkle super star, fame and fortune t...  \n",
       "4712  be not afraid at all, be not afraid to know  \\...  \n",
       "4758  i'll find the places where you hide  \\r i'll b...  \n",
       "2728  a love struck romeo  \\r sings the streets a se...  \n",
       "1243  you must have faith in everything you do  \\r f...  \n",
       "...                                                 ...  \n",
       "135   when he loved me nothing in this world  \\r cou...  \n",
       "41    now that i've passed your test  \\r how can i p...  \n",
       "3617  'i get along without you very well' (hoagy car...  \n",
       "3855  i know a dream when i see one  \\r for i'm a dr...  \n",
       "2197  deep down in my heart  \\r there is a lot of wo...  \n",
       "\n",
       "[5000 rows x 3 columns]"
      ]
     },
     "execution_count": 16,
     "metadata": {},
     "output_type": "execute_result"
    }
   ],
   "source": [
    "df"
   ]
  },
  {
   "cell_type": "code",
   "execution_count": 17,
   "id": "3c2c3f27",
   "metadata": {},
   "outputs": [
    {
     "data": {
      "text/html": [
       "<div>\n",
       "<style scoped>\n",
       "    .dataframe tbody tr th:only-of-type {\n",
       "        vertical-align: middle;\n",
       "    }\n",
       "\n",
       "    .dataframe tbody tr th {\n",
       "        vertical-align: top;\n",
       "    }\n",
       "\n",
       "    .dataframe thead th {\n",
       "        text-align: right;\n",
       "    }\n",
       "</style>\n",
       "<table border=\"1\" class=\"dataframe\">\n",
       "  <thead>\n",
       "    <tr style=\"text-align: right;\">\n",
       "      <th></th>\n",
       "      <th>artist</th>\n",
       "      <th>song</th>\n",
       "      <th>text</th>\n",
       "    </tr>\n",
       "  </thead>\n",
       "  <tbody>\n",
       "    <tr>\n",
       "      <th>135</th>\n",
       "      <td>Dusty Springfield</td>\n",
       "      <td>If It Don't Work Out</td>\n",
       "      <td>when he loved me nothing in this world  \\r cou...</td>\n",
       "    </tr>\n",
       "    <tr>\n",
       "      <th>41</th>\n",
       "      <td>Cat Stevens</td>\n",
       "      <td>Two Fine People</td>\n",
       "      <td>now that i've passed your test  \\r how can i p...</td>\n",
       "    </tr>\n",
       "    <tr>\n",
       "      <th>3617</th>\n",
       "      <td>Phil Collins</td>\n",
       "      <td>I've Forgotten Everything</td>\n",
       "      <td>'i get along without you very well' (hoagy car...</td>\n",
       "    </tr>\n",
       "    <tr>\n",
       "      <th>3855</th>\n",
       "      <td>Dean Martin</td>\n",
       "      <td>I Know A Dream When I See One</td>\n",
       "      <td>i know a dream when i see one  \\r for i'm a dr...</td>\n",
       "    </tr>\n",
       "    <tr>\n",
       "      <th>2197</th>\n",
       "      <td>INXS</td>\n",
       "      <td>All The Voices</td>\n",
       "      <td>deep down in my heart  \\r there is a lot of wo...</td>\n",
       "    </tr>\n",
       "  </tbody>\n",
       "</table>\n",
       "</div>"
      ],
      "text/plain": [
       "                 artist                           song  \\\n",
       "135   Dusty Springfield           If It Don't Work Out   \n",
       "41          Cat Stevens                Two Fine People   \n",
       "3617       Phil Collins      I've Forgotten Everything   \n",
       "3855        Dean Martin  I Know A Dream When I See One   \n",
       "2197               INXS                 All The Voices   \n",
       "\n",
       "                                                   text  \n",
       "135   when he loved me nothing in this world  \\r cou...  \n",
       "41    now that i've passed your test  \\r how can i p...  \n",
       "3617  'i get along without you very well' (hoagy car...  \n",
       "3855  i know a dream when i see one  \\r for i'm a dr...  \n",
       "2197  deep down in my heart  \\r there is a lot of wo...  "
      ]
     },
     "execution_count": 17,
     "metadata": {},
     "output_type": "execute_result"
    }
   ],
   "source": [
    "df.tail(5)"
   ]
  },
  {
   "cell_type": "markdown",
   "id": "c744f3fa",
   "metadata": {},
   "source": [
    "TOKENISATION"
   ]
  },
  {
   "cell_type": "code",
   "execution_count": 18,
   "id": "e3c97ebf",
   "metadata": {},
   "outputs": [
    {
     "name": "stderr",
     "output_type": "stream",
     "text": [
      "[nltk_data] Downloading package punkt_tab to /Users/drago/nltk_data...\n",
      "[nltk_data]   Package punkt_tab is already up-to-date!\n"
     ]
    }
   ],
   "source": [
    "import nltk\n",
    "from nltk.stem.porter import PorterStemmer\n",
    "\n",
    "nltk.download('punkt_tab')\n",
    "stemmer = PorterStemmer()\n",
    "\n",
    "def tokenization(txt):\n",
    "    tokens = nltk.word_tokenize(txt)\n",
    "    stemming = [stemmer.stem(w) for w in tokens]\n",
    "    return \" \".join(stemming)"
   ]
  },
  {
   "cell_type": "code",
   "execution_count": 19,
   "id": "d8c81e36",
   "metadata": {},
   "outputs": [
    {
     "data": {
      "text/plain": [
       "'you are beauti , beauti'"
      ]
     },
     "execution_count": 19,
     "metadata": {},
     "output_type": "execute_result"
    }
   ],
   "source": [
    "tokenization('you are beautifully, beauty')"
   ]
  },
  {
   "cell_type": "code",
   "execution_count": 20,
   "id": "68e54f2e",
   "metadata": {},
   "outputs": [],
   "source": [
    "df['text'] = df['text'].apply(lambda x: tokenization(x))"
   ]
  },
  {
   "cell_type": "code",
   "execution_count": 21,
   "id": "f8144918",
   "metadata": {},
   "outputs": [
    {
     "data": {
      "text/plain": [
       "4142    twinkl twinkl super star , fame and fortun too...\n",
       "4712    be not afraid at all , be not afraid to know a...\n",
       "4758    i 'll find the place where you hide i 'll be t...\n",
       "2728    a love struck romeo sing the street a serenad ...\n",
       "1243    you must have faith in everyth you do faith wi...\n",
       "                              ...                        \n",
       "135     when he love me noth in thi world could touch ...\n",
       "41      now that i 've pass your test how can i prove ...\n",
       "3617    ' i get along without you veri well ' ( hoagi ...\n",
       "3855    i know a dream when i see one for i 'm a dream...\n",
       "2197    deep down in my heart there is a lot of word t...\n",
       "Name: text, Length: 5000, dtype: object"
      ]
     },
     "execution_count": 21,
     "metadata": {},
     "output_type": "execute_result"
    }
   ],
   "source": [
    "df['text']"
   ]
  },
  {
   "cell_type": "markdown",
   "id": "5b8b9252",
   "metadata": {},
   "source": [
    "VECTORIZATION"
   ]
  },
  {
   "cell_type": "code",
   "execution_count": 22,
   "id": "1cb8ef6b",
   "metadata": {},
   "outputs": [],
   "source": [
    "from sklearn.feature_extraction.text import TfidfVectorizer\n",
    "from sklearn.metrics.pairwise import cosine_similarity"
   ]
  },
  {
   "cell_type": "code",
   "execution_count": 23,
   "id": "352bde30",
   "metadata": {},
   "outputs": [],
   "source": [
    "tfidvector = TfidfVectorizer(analyzer='word',stop_words = 'english')\n",
    "matrix = tfidvector.fit_transform(df['text'])\n",
    "similarity = cosine_similarity(matrix)"
   ]
  },
  {
   "cell_type": "code",
   "execution_count": 24,
   "id": "8432ba55",
   "metadata": {},
   "outputs": [
    {
     "data": {
      "text/plain": [
       "array([1.        , 0.02893879, 0.01255547, ..., 0.00846952, 0.00426524,\n",
       "       0.08180347])"
      ]
     },
     "execution_count": 24,
     "metadata": {},
     "output_type": "execute_result"
    }
   ],
   "source": [
    "similarity[0]"
   ]
  },
  {
   "cell_type": "code",
   "execution_count": 25,
   "id": "ea7e8f24",
   "metadata": {},
   "outputs": [
    {
     "data": {
      "text/html": [
       "<div>\n",
       "<style scoped>\n",
       "    .dataframe tbody tr th:only-of-type {\n",
       "        vertical-align: middle;\n",
       "    }\n",
       "\n",
       "    .dataframe tbody tr th {\n",
       "        vertical-align: top;\n",
       "    }\n",
       "\n",
       "    .dataframe thead th {\n",
       "        text-align: right;\n",
       "    }\n",
       "</style>\n",
       "<table border=\"1\" class=\"dataframe\">\n",
       "  <thead>\n",
       "    <tr style=\"text-align: right;\">\n",
       "      <th></th>\n",
       "      <th>artist</th>\n",
       "      <th>song</th>\n",
       "      <th>text</th>\n",
       "    </tr>\n",
       "  </thead>\n",
       "  <tbody>\n",
       "  </tbody>\n",
       "</table>\n",
       "</div>"
      ],
      "text/plain": [
       "Empty DataFrame\n",
       "Columns: [artist, song, text]\n",
       "Index: []"
      ]
     },
     "execution_count": 25,
     "metadata": {},
     "output_type": "execute_result"
    }
   ],
   "source": [
    "df[df['song']== 'Sign Of Judgement']\n"
   ]
  },
  {
   "cell_type": "markdown",
   "id": "b3c3f730",
   "metadata": {},
   "source": [
    "RECOMMENDER FUNCTION"
   ]
  },
  {
   "cell_type": "code",
   "execution_count": 26,
   "id": "cf159db2",
   "metadata": {},
   "outputs": [],
   "source": [
    "def recommendation(song_df):\n",
    "    idx = df[df['song'] == song_df].index[0]\n",
    "    distances = sorted(list(enumerate(similarity[idx])),reverse=True,key=lambda x:x[1])\n",
    "    \n",
    "    songs = []\n",
    "    for m_id in distances[1:21]:\n",
    "        songs.append(df.iloc[m_id[0]].song)\n",
    "        \n",
    "    return songs"
   ]
  },
  {
   "cell_type": "markdown",
   "id": "8669f5e3",
   "metadata": {},
   "source": [
    "FRONTEND"
   ]
  },
  {
   "cell_type": "code",
   "execution_count": 27,
   "id": "a3cbcfe1",
   "metadata": {},
   "outputs": [],
   "source": [
    "import pickle\n",
    "pickle.dump(similarity,open('similarity.pkl','wb'))\n",
    "pickle.dump(df,open('df.pkl','wb'))"
   ]
  }
 ],
 "metadata": {
  "kernelspec": {
   "display_name": ".venv",
   "language": "python",
   "name": "python3"
  },
  "language_info": {
   "codemirror_mode": {
    "name": "ipython",
    "version": 3
   },
   "file_extension": ".py",
   "mimetype": "text/x-python",
   "name": "python",
   "nbconvert_exporter": "python",
   "pygments_lexer": "ipython3",
   "version": "3.13.0"
  }
 },
 "nbformat": 4,
 "nbformat_minor": 5
}
